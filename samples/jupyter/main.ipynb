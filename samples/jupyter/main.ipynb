{
 "cells": [
  {
   "cell_type": "markdown",
   "id": "56f1559b",
   "metadata": {},
   "source": [
    "# OpenApiPy Jupyter Sample\n",
    "\n",
    "In this Jupyter notebook we will use the Python package \"ctrader-open-api\" to get daily trend bars data from cTrader Open API.\n",
    "\n",
    "Let's start."
   ]
  },
  {
   "cell_type": "markdown",
   "id": "cca68e74",
   "metadata": {},
   "source": [
    "If you haven't already installed the \"ctrader-open-api\" package, run the next code cell to install it via pip:"
   ]
  },
  {
   "cell_type": "code",
   "execution_count": null,
   "id": "c53bfd78",
   "metadata": {},
   "outputs": [],
   "source": [
    "!pip install ctrader-open-api"
   ]
  },
  {
   "cell_type": "markdown",
   "id": "ca2b39c1",
   "metadata": {},
   "source": [
    "Then we have to import all necessary types:"
   ]
  },
  {
   "cell_type": "code",
   "execution_count": null,
   "id": "4ab2a19d",
   "metadata": {},
   "outputs": [],
   "source": [
    "from ctrader_open_api import Client, Protobuf, TcpProtocol, Auth, EndPoints\n",
    "from ctrader_open_api.messages.OpenApiCommonMessages_pb2 import *\n",
    "from ctrader_open_api.messages.OpenApiMessages_pb2 import *\n",
    "from ctrader_open_api.messages.OpenApiModelMessages_pb2 import *\n",
    "from twisted.internet import reactor\n",
    "import json\n",
    "import datetime\n",
    "import calendar"
   ]
  },
  {
   "cell_type": "markdown",
   "id": "d91f78fe",
   "metadata": {},
   "source": [
    "Now we use the \"credentials-dev.json\" file to get your Open API application credentials.\n",
    "Be sure to populate it with your API application credentials and access token before running next cell:"
   ]
  },
  {
   "cell_type": "code",
   "execution_count": null,
   "id": "2e67ade6",
   "metadata": {},
   "outputs": [],
   "source": [
    "credentialsFile = open(\"credentials-dev.json\")\n",
    "credentials = json.load(credentialsFile)"
   ]
  },
  {
   "cell_type": "markdown",
   "id": "f40aa449",
   "metadata": {},
   "source": [
    "Then we will create a client based our selected host type:"
   ]
  },
  {
   "cell_type": "code",
   "execution_count": null,
   "id": "a81eaee2",
   "metadata": {},
   "outputs": [],
   "source": [
    "host = EndPoints.PROTOBUF_LIVE_HOST if credentials[\"HostType\"].lower() == \"live\" else EndPoints.PROTOBUF_DEMO_HOST\n",
    "client = Client(host, EndPoints.PROTOBUF_PORT, TcpProtocol)"
   ]
  },
  {
   "cell_type": "markdown",
   "id": "9e722b92",
   "metadata": {},
   "source": [
    "Now let's set the symbol name that you want to use, it must match to one of your trading account symbol names:"
   ]
  },
  {
   "cell_type": "code",
   "execution_count": null,
   "id": "8718a36a",
   "metadata": {},
   "outputs": [],
   "source": [
    "symbolName = \"EURUSD\""
   ]
  },
  {
   "cell_type": "markdown",
   "id": "60d68c75",
   "metadata": {},
   "source": [
    "We will use the below list to store the daily bars data:"
   ]
  },
  {
   "cell_type": "code",
   "execution_count": null,
   "id": "cae2d042",
   "metadata": {},
   "outputs": [],
   "source": [
    "dailyBars = []"
   ]
  },
  {
   "cell_type": "markdown",
   "id": "dce5fdcd",
   "metadata": {},
   "source": [
    "We will use below method to transform the Open API trend bar to a tuple with bar open time, open price, high price, low price, and close price:"
   ]
  },
  {
   "cell_type": "code",
   "execution_count": null,
   "id": "1735a39c",
   "metadata": {},
   "outputs": [],
   "source": [
    "def transformTrendbar(trendbar):\n",
    "    openTime = datetime.datetime.fromtimestamp(trendbar.utcTimestampInMinutes * 60, datetime.timezone.utc)\n",
    "    openPrice = (trendbar.low + trendbar.deltaOpen) / 100000.0\n",
    "    highPrice = (trendbar.low + trendbar.deltaHigh) / 100000.0\n",
    "    lowPrice = trendbar.low / 100000.0\n",
    "    closePrice = (trendbar.low + trendbar.deltaClose) / 100000.0\n",
    "    return [openTime, openPrice, highPrice, lowPrice, closePrice, trendbar.volume]"
   ]
  },
  {
   "cell_type": "markdown",
   "id": "52058cf3",
   "metadata": {},
   "source": [
    "OpenApiPy uses Twisted to work asynchronously, so the execution flow is not sequential, we have to use a series of callbacks.\n",
    "\n",
    "The first callback we will use is the client \"Connected\" callback, its got triggered when client is connected and we should use it to send the Application authentication request.\n",
    "\n",
    "We will then use the Application authentication request returned Twisted deferred to set response callbacks, when we received the \"ProtoOAApplicationAuthRes\" the deferred assigned callback chain will be triggered.\n",
    "\n",
    "After we authenticated our API application then we will send an account authentication response, for the account ID you set on credentials file.\n",
    "\n",
    "Be sure your account type and host type match, otherwise account authentication will fail.\n",
    "\n",
    "Then we continue by using the retuned deferred to get trend bars data."
   ]
  },
  {
   "cell_type": "markdown",
   "id": "cc492670",
   "metadata": {},
   "source": [
    "Now lets set the client callbacks:"
   ]
  },
  {
   "cell_type": "code",
   "execution_count": null,
   "id": "a41a6f36",
   "metadata": {},
   "outputs": [],
   "source": [
    "def trendbarsResponseCallback(result):\n",
    "    print(\"\\nTrendbars received\")\n",
    "    trendbars = Protobuf.extract(result)\n",
    "    barsData = list(map(transformTrendbar, trendbars.trendbar))\n",
    "    global dailyBars\n",
    "    dailyBars.clear()\n",
    "    dailyBars.extend(barsData)\n",
    "    print(\"\\ndailyBars length:\", len(dailyBars))\n",
    "    print(\"\\Stopping reactor...\")\n",
    "    reactor.stop()\n",
    "    \n",
    "def symbolsResponseCallback(result):\n",
    "    print(\"\\nSymbols received\")\n",
    "    symbols = Protobuf.extract(result)\n",
    "    global symbolName\n",
    "    symbolsFilterResult = list(filter(lambda symbol: symbol.symbolName == symbolName, symbols.symbol))\n",
    "    if len(symbolsFilterResult) == 0:\n",
    "        raise Exception(f\"There is symbol that matches to your defined symbol name: {symbolName}\")\n",
    "    elif len(symbolsFilterResult) > 1:\n",
    "        raise Exception(f\"More than one symbol matched with your defined symbol name: {symbolName}, match result: {symbolsFilterResult}\")\n",
    "    symbol = symbolsFilterResult[0]\n",
    "    request = ProtoOAGetTrendbarsReq()\n",
    "    request.symbolId = symbol.symbolId\n",
    "    request.ctidTraderAccountId = credentials[\"AccountId\"]\n",
    "    request.period = ProtoOATrendbarPeriod.D1\n",
    "    # We set the from/to time stamps to 50 weeks, you can load more data by sending multiple requests\n",
    "    # Please check the ProtoOAGetTrendbarsReq documentation for more detail\n",
    "    request.fromTimestamp = int(calendar.timegm((datetime.datetime.utcnow() - datetime.timedelta(weeks=50)).utctimetuple())) * 1000\n",
    "    request.toTimestamp = int(calendar.timegm(datetime.datetime.utcnow().utctimetuple())) * 1000\n",
    "    deferred = client.send(request)\n",
    "    deferred.addCallbacks(trendbarsResponseCallback, onError)\n",
    "    \n",
    "def accountAuthResponseCallback(result):\n",
    "    print(\"\\nAccount authenticated\")\n",
    "    request = ProtoOASymbolsListReq()\n",
    "    request.ctidTraderAccountId = credentials[\"AccountId\"]\n",
    "    request.includeArchivedSymbols = False\n",
    "    deferred = client.send(request)\n",
    "    deferred.addCallbacks(symbolsResponseCallback, onError)\n",
    "    \n",
    "def applicationAuthResponseCallback(result):\n",
    "    print(\"\\nApplication authenticated\")\n",
    "    request = ProtoOAAccountAuthReq()\n",
    "    request.ctidTraderAccountId = credentials[\"AccountId\"]\n",
    "    request.accessToken = credentials[\"AccessToken\"]\n",
    "    deferred = client.send(request)\n",
    "    deferred.addCallbacks(accountAuthResponseCallback, onError)\n",
    "\n",
    "def onError(client, failure): # Call back for errors\n",
    "    print(\"\\nMessage Error: \", failure)\n",
    "\n",
    "def disconnected(client, reason): # Callback for client disconnection\n",
    "    print(\"\\nDisconnected: \", reason)\n",
    "\n",
    "def onMessageReceived(client, message): # Callback for receiving all messages\n",
    "    if message.payloadType in [ProtoHeartbeatEvent().payloadType, ProtoOAAccountAuthRes().payloadType, ProtoOAApplicationAuthRes().payloadType, ProtoOASymbolsListRes().payloadType, ProtoOAGetTrendbarsRes().payloadType]:\n",
    "        return\n",
    "    print(\"\\nMessage received: \\n\", Protobuf.extract(message))\n",
    "    \n",
    "def connected(client): # Callback for client connection\n",
    "    print(\"\\nConnected\")\n",
    "    request = ProtoOAApplicationAuthReq()\n",
    "    request.clientId = credentials[\"ClientId\"]\n",
    "    request.clientSecret = credentials[\"Secret\"]\n",
    "    deferred = client.send(request)\n",
    "    deferred.addCallbacks(applicationAuthResponseCallback, onError)\n",
    "    \n",
    "# Setting optional client callbacks\n",
    "client.setConnectedCallback(connected)\n",
    "client.setDisconnectedCallback(disconnected)\n",
    "client.setMessageReceivedCallback(onMessageReceived)"
   ]
  },
  {
   "cell_type": "markdown",
   "id": "fbcde03f",
   "metadata": {},
   "source": [
    "The last step is to run our client service, it will run inside Twisted reactor loop asynchronously:"
   ]
  },
  {
   "cell_type": "code",
   "execution_count": null,
   "id": "98c9510e",
   "metadata": {},
   "outputs": [],
   "source": [
    "# Starting the client service\n",
    "client.startService()\n",
    "# Run Twisted reactor, we imported it earlier\n",
    "reactor.run()"
   ]
  },
  {
   "cell_type": "markdown",
   "id": "c8e4a97b",
   "metadata": {},
   "source": [
    "If the above cell code executed without any error and the daily bars length printed as last message with more than 0 elements then it means we were able to successfully get the daily trend bars data."
   ]
  },
  {
   "cell_type": "markdown",
   "id": "a7835d65",
   "metadata": {},
   "source": [
    "Now we have the price data, let's do some cool stuff with it, we will transform it to a pandas DataFrame:"
   ]
  },
  {
   "cell_type": "code",
   "execution_count": null,
   "id": "5a75f17c",
   "metadata": {},
   "outputs": [],
   "source": [
    "import pandas as pd\n",
    "import numpy as np"
   ]
  },
  {
   "cell_type": "code",
   "execution_count": null,
   "id": "6f6bdcd7",
   "metadata": {},
   "outputs": [],
   "source": [
    "df = pd.DataFrame(np.array(dailyBars),\n",
    "                   columns=['Time', 'Open', 'High', 'Low', 'Close', 'Volume'])\n",
    "df[\"Open\"] = pd.to_numeric(df[\"Open\"])\n",
    "df[\"High\"] = pd.to_numeric(df[\"High\"])\n",
    "df[\"Low\"] = pd.to_numeric(df[\"Low\"])\n",
    "df[\"Close\"] = pd.to_numeric(df[\"Close\"])\n",
    "df[\"Volume\"] = pd.to_numeric(df[\"Volume\"])"
   ]
  },
  {
   "cell_type": "markdown",
   "id": "63eda941",
   "metadata": {},
   "source": [
    "Now let's create a labels series, we will use it later for our ML model.\n",
    "This will have a 1 if the close price was higher than open price and 0 otherwise.\n",
    "We will use the today price data to predict the tomorrow bar type."
   ]
  },
  {
   "cell_type": "code",
   "execution_count": null,
   "id": "02856070",
   "metadata": {},
   "outputs": [],
   "source": [
    "df[\"Labels\"] = (df[\"Close\"] > df[\"Open\"]).astype(int)\n",
    "df[\"Labels\"] = df[\"Labels\"].shift(-1)\n",
    "df.drop(df.tail(1).index,inplace=True)"
   ]
  },
  {
   "cell_type": "markdown",
   "id": "46ad4ae2",
   "metadata": {},
   "source": [
    "Let's take a look on our data frame: "
   ]
  },
  {
   "cell_type": "code",
   "execution_count": null,
   "id": "cb75ff4f",
   "metadata": {},
   "outputs": [],
   "source": [
    "df.tail()"
   ]
  },
  {
   "cell_type": "markdown",
   "id": "5d5ce793",
   "metadata": {},
   "source": [
    "Now let's create a sklearn LogisticRegression model and use our data to train and test it:"
   ]
  },
  {
   "cell_type": "code",
   "execution_count": null,
   "id": "fc9f1fe5",
   "metadata": {},
   "outputs": [],
   "source": [
    "from sklearn.linear_model import LogisticRegression\n",
    "from sklearn.model_selection import train_test_split\n",
    "from sklearn.metrics import accuracy_score\n",
    "\n",
    "model = LogisticRegression()\n",
    "\n",
    "x = df.loc[:, [\"Open\", \"High\", \"Low\", \"Close\", \"Volume\"]]\n",
    "y = df.Labels\n",
    "\n",
    "x_train, x_test, y_train, y_test = train_test_split(x, y, train_size=0.7)\n",
    "\n",
    "model.fit(x_train, y_train)\n",
    "\n",
    "y_pred= model.predict(x_test)\n",
    "\n",
    "print(\"Our Model accuracy score is: \", accuracy_score(y_test, y_pred))"
   ]
  },
  {
   "cell_type": "code",
   "execution_count": null,
   "id": "75402129",
   "metadata": {},
   "outputs": [],
   "source": []
  }
 ],
 "metadata": {
  "kernelspec": {
   "display_name": "Python 3 (ipykernel)",
   "language": "python",
   "name": "python3"
  },
  "language_info": {
   "codemirror_mode": {
    "name": "ipython",
    "version": 3
   },
   "file_extension": ".py",
   "mimetype": "text/x-python",
   "name": "python",
   "nbconvert_exporter": "python",
   "pygments_lexer": "ipython3",
   "version": "3.9.6"
  }
 },
 "nbformat": 4,
 "nbformat_minor": 5
}
